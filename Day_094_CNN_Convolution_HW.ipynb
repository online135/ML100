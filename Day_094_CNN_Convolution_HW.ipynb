{
 "cells": [
  {
   "cell_type": "markdown",
   "metadata": {},
   "source": [
    "# 教學目標:\n",
    "    了解 Convolution 卷積的組成"
   ]
  },
  {
   "cell_type": "markdown",
   "metadata": {},
   "source": [
    "# 範例內容:\n",
    "    定義單步的卷積\n",
    "    \n",
    "    輸出卷積的計算值\n"
   ]
  },
  {
   "cell_type": "markdown",
   "metadata": {},
   "source": [
    "# 作業:\n",
    "    修改 a_slice_prev, 檢查 Z 的輸出"
   ]
  },
  {
   "cell_type": "code",
   "execution_count": 3,
   "metadata": {},
   "outputs": [],
   "source": [
    "import numpy as np"
   ]
  },
  {
   "cell_type": "code",
   "execution_count": 4,
   "metadata": {},
   "outputs": [],
   "source": [
    "# GRADED FUNCTION: conv_single_step\n",
    "def conv_single_step(a_slice_prev, W, b):\n",
    "    \"\"\"\n",
    "    定義一層 Kernel (內核), 使用的參數說明如下\n",
    "    Arguments:\n",
    "        a_slice_prev -- 輸入資料的維度\n",
    "        W -- 權重, 被使用在 a_slice_prev\n",
    "        b -- 偏差參數 \n",
    "    Returns:\n",
    "        Z -- 滑動窗口（W，b）卷積在前一個 feature map 上的結果\n",
    "    \"\"\"\n",
    "\n",
    "    # 定義一個元素介於 a_slice and W\n",
    "    s = a_slice_prev * W\n",
    "    # 加總所有的 \"s\" 並指定給Z.\n",
    "    Z = np.sum(s)\n",
    "    # Add bias b to Z. 這是 float() 函數,\n",
    "    Z = float(Z + b)\n",
    "\n",
    "    return Z"
   ]
  },
  {
   "cell_type": "code",
   "execution_count": 7,
   "metadata": {},
   "outputs": [
    {
     "name": "stdout",
     "output_type": "stream",
     "text": [
      "a = 3 and Z = -5.19283565556167\n",
      "a = 5 and Z = -1.860472091426682\n",
      "a = 7 and Z = -14.453280844085816\n",
      "a = 9 and Z = 2.5994135266832608\n",
      "a = 11 and Z = -9.99797186467057\n",
      "a = 13 and Z = -17.383764425515604\n",
      "a = 15 and Z = -15.986358064357567\n",
      "a = 17 and Z = 37.80827333167935\n",
      "a = 19 and Z = 28.177218672926355\n",
      "a = 21 and Z = 35.37106733616583\n",
      "a = 23 and Z = 8.796208703211976\n",
      "a = 25 and Z = -18.126801266561547\n",
      "a = 27 and Z = -23.31187659926271\n"
     ]
    }
   ],
   "source": [
    "np.random.seed(1)\n",
    "#定義一個 axaxd 的 feature map\n",
    "a = 3\n",
    "d = 3\n",
    "for a in range(3, 29, 2):\n",
    "    a_slice_prev = np.random.randn(a, a, d)\n",
    "    W = np.random.randn(a, a, d)\n",
    "    b = np.random.randn(1, 1, 1)\n",
    "\n",
    "    #取得計算後,卷積矩陣的值\n",
    "    Z = conv_single_step(a_slice_prev, W, b)\n",
    "    print(\"a =\", a, \"and\", \"Z =\", Z)"
   ]
  },
  {
   "cell_type": "code",
   "execution_count": null,
   "metadata": {},
   "outputs": [],
   "source": []
  },
  {
   "cell_type": "code",
   "execution_count": null,
   "metadata": {},
   "outputs": [],
   "source": []
  }
 ],
 "metadata": {
  "kernelspec": {
   "display_name": "Python 3",
   "language": "python",
   "name": "python3"
  },
  "language_info": {
   "codemirror_mode": {
    "name": "ipython",
    "version": 3
   },
   "file_extension": ".py",
   "mimetype": "text/x-python",
   "name": "python",
   "nbconvert_exporter": "python",
   "pygments_lexer": "ipython3",
   "version": "3.6.5"
  }
 },
 "nbformat": 4,
 "nbformat_minor": 2
}
